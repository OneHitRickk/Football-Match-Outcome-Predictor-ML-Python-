{
 "cells": [
  {
   "cell_type": "code",
   "id": "initial_id",
   "metadata": {
    "collapsed": true,
    "ExecuteTime": {
     "end_time": "2025-10-25T20:06:00.436279Z",
     "start_time": "2025-10-25T20:05:59.147010Z"
    }
   },
   "source": "import pandas as pd",
   "outputs": [],
   "execution_count": 2
  },
  {
   "metadata": {
    "ExecuteTime": {
     "end_time": "2025-10-26T01:01:02.476047Z",
     "start_time": "2025-10-26T01:01:02.462851Z"
    }
   },
   "cell_type": "code",
   "source": [
    "matches = pd.read_csv(\"epl_2024_matches_clean.csv\", index_col=0)\n",
    "matches.dtypes\n"
   ],
   "id": "2c8656d0db627b15",
   "outputs": [
    {
     "data": {
      "text/plain": [
       "TEAMS_home               object\n",
       "TEAMS_away               object\n",
       "CHANCES_home            float64\n",
       "CHANCES_away            float64\n",
       "GOALS_home                int64\n",
       "GOALS_away                int64\n",
       "XG_home                 float64\n",
       "XG_away                 float64\n",
       "SHOTS_home                int64\n",
       "SHOTS_away                int64\n",
       "SHOTS ON TARGET_home      int64\n",
       "SHOTS ON TARGET_away      int64\n",
       "DEEP_home                 int64\n",
       "DEEP_away                 int64\n",
       "PPDA_home               float64\n",
       "PPDA_away               float64\n",
       "XPTS_home               float64\n",
       "XPTS_away               float64\n",
       "dtype: object"
      ]
     },
     "execution_count": 16,
     "metadata": {},
     "output_type": "execute_result"
    }
   ],
   "execution_count": 16
  },
  {
   "metadata": {
    "ExecuteTime": {
     "end_time": "2025-10-25T20:06:40.595812Z",
     "start_time": "2025-10-25T20:06:40.584230Z"
    }
   },
   "cell_type": "code",
   "source": "matches.head()",
   "id": "e8e3ca3409c971c1",
   "outputs": [
    {
     "data": {
      "text/plain": [
       "           TEAMS_home               TEAMS_away CHANCES_home CHANCES_away  \\\n",
       "match_id                                                                   \n",
       "26608        West Ham              Aston Villa          41%          36%   \n",
       "26618     Aston Villa                  Arsenal          31%          39%   \n",
       "26626       Leicester              Aston Villa          NaN          76%   \n",
       "26638     Aston Villa                  Everton          89%          NaN   \n",
       "26647     Aston Villa  Wolverhampton Wanderers          84%          NaN   \n",
       "\n",
       "          GOALS_home  GOALS_away  XG_home  XG_away  SHOTS_home  SHOTS_away  \\\n",
       "match_id                                                                     \n",
       "26608              1           2     2.80     2.67          14          15   \n",
       "26618              0           2     1.32     1.41          11           9   \n",
       "26626              1           2     0.77     2.16           9          10   \n",
       "26638              3           2     3.16     0.85          17           6   \n",
       "26647              3           1     2.37     0.52           9          10   \n",
       "\n",
       "          SHOTS ON TARGET_home  SHOTS ON TARGET_away  DEEP_home  DEEP_away  \\\n",
       "match_id                                                                     \n",
       "26608                        3                     3          5          8   \n",
       "26618                        3                     4          3         10   \n",
       "26626                        3                     5          3          6   \n",
       "26638                        8                     2          9          3   \n",
       "26647                        4                     4          9          4   \n",
       "\n",
       "          PPDA_home  PPDA_away  XPTS_home  XPTS_away  \n",
       "match_id                                              \n",
       "26608          9.33      11.30       1.47       1.30  \n",
       "26618         17.28       5.83       1.24       1.46  \n",
       "26626          6.40      10.47       0.37       2.45  \n",
       "26638          5.26      16.33       2.76       0.16  \n",
       "26647         11.80      13.50       2.65       0.24  "
      ],
      "text/html": [
       "<div>\n",
       "<style scoped>\n",
       "    .dataframe tbody tr th:only-of-type {\n",
       "        vertical-align: middle;\n",
       "    }\n",
       "\n",
       "    .dataframe tbody tr th {\n",
       "        vertical-align: top;\n",
       "    }\n",
       "\n",
       "    .dataframe thead th {\n",
       "        text-align: right;\n",
       "    }\n",
       "</style>\n",
       "<table border=\"1\" class=\"dataframe\">\n",
       "  <thead>\n",
       "    <tr style=\"text-align: right;\">\n",
       "      <th></th>\n",
       "      <th>TEAMS_home</th>\n",
       "      <th>TEAMS_away</th>\n",
       "      <th>CHANCES_home</th>\n",
       "      <th>CHANCES_away</th>\n",
       "      <th>GOALS_home</th>\n",
       "      <th>GOALS_away</th>\n",
       "      <th>XG_home</th>\n",
       "      <th>XG_away</th>\n",
       "      <th>SHOTS_home</th>\n",
       "      <th>SHOTS_away</th>\n",
       "      <th>SHOTS ON TARGET_home</th>\n",
       "      <th>SHOTS ON TARGET_away</th>\n",
       "      <th>DEEP_home</th>\n",
       "      <th>DEEP_away</th>\n",
       "      <th>PPDA_home</th>\n",
       "      <th>PPDA_away</th>\n",
       "      <th>XPTS_home</th>\n",
       "      <th>XPTS_away</th>\n",
       "    </tr>\n",
       "    <tr>\n",
       "      <th>match_id</th>\n",
       "      <th></th>\n",
       "      <th></th>\n",
       "      <th></th>\n",
       "      <th></th>\n",
       "      <th></th>\n",
       "      <th></th>\n",
       "      <th></th>\n",
       "      <th></th>\n",
       "      <th></th>\n",
       "      <th></th>\n",
       "      <th></th>\n",
       "      <th></th>\n",
       "      <th></th>\n",
       "      <th></th>\n",
       "      <th></th>\n",
       "      <th></th>\n",
       "      <th></th>\n",
       "      <th></th>\n",
       "    </tr>\n",
       "  </thead>\n",
       "  <tbody>\n",
       "    <tr>\n",
       "      <th>26608</th>\n",
       "      <td>West Ham</td>\n",
       "      <td>Aston Villa</td>\n",
       "      <td>41%</td>\n",
       "      <td>36%</td>\n",
       "      <td>1</td>\n",
       "      <td>2</td>\n",
       "      <td>2.80</td>\n",
       "      <td>2.67</td>\n",
       "      <td>14</td>\n",
       "      <td>15</td>\n",
       "      <td>3</td>\n",
       "      <td>3</td>\n",
       "      <td>5</td>\n",
       "      <td>8</td>\n",
       "      <td>9.33</td>\n",
       "      <td>11.30</td>\n",
       "      <td>1.47</td>\n",
       "      <td>1.30</td>\n",
       "    </tr>\n",
       "    <tr>\n",
       "      <th>26618</th>\n",
       "      <td>Aston Villa</td>\n",
       "      <td>Arsenal</td>\n",
       "      <td>31%</td>\n",
       "      <td>39%</td>\n",
       "      <td>0</td>\n",
       "      <td>2</td>\n",
       "      <td>1.32</td>\n",
       "      <td>1.41</td>\n",
       "      <td>11</td>\n",
       "      <td>9</td>\n",
       "      <td>3</td>\n",
       "      <td>4</td>\n",
       "      <td>3</td>\n",
       "      <td>10</td>\n",
       "      <td>17.28</td>\n",
       "      <td>5.83</td>\n",
       "      <td>1.24</td>\n",
       "      <td>1.46</td>\n",
       "    </tr>\n",
       "    <tr>\n",
       "      <th>26626</th>\n",
       "      <td>Leicester</td>\n",
       "      <td>Aston Villa</td>\n",
       "      <td>NaN</td>\n",
       "      <td>76%</td>\n",
       "      <td>1</td>\n",
       "      <td>2</td>\n",
       "      <td>0.77</td>\n",
       "      <td>2.16</td>\n",
       "      <td>9</td>\n",
       "      <td>10</td>\n",
       "      <td>3</td>\n",
       "      <td>5</td>\n",
       "      <td>3</td>\n",
       "      <td>6</td>\n",
       "      <td>6.40</td>\n",
       "      <td>10.47</td>\n",
       "      <td>0.37</td>\n",
       "      <td>2.45</td>\n",
       "    </tr>\n",
       "    <tr>\n",
       "      <th>26638</th>\n",
       "      <td>Aston Villa</td>\n",
       "      <td>Everton</td>\n",
       "      <td>89%</td>\n",
       "      <td>NaN</td>\n",
       "      <td>3</td>\n",
       "      <td>2</td>\n",
       "      <td>3.16</td>\n",
       "      <td>0.85</td>\n",
       "      <td>17</td>\n",
       "      <td>6</td>\n",
       "      <td>8</td>\n",
       "      <td>2</td>\n",
       "      <td>9</td>\n",
       "      <td>3</td>\n",
       "      <td>5.26</td>\n",
       "      <td>16.33</td>\n",
       "      <td>2.76</td>\n",
       "      <td>0.16</td>\n",
       "    </tr>\n",
       "    <tr>\n",
       "      <th>26647</th>\n",
       "      <td>Aston Villa</td>\n",
       "      <td>Wolverhampton Wanderers</td>\n",
       "      <td>84%</td>\n",
       "      <td>NaN</td>\n",
       "      <td>3</td>\n",
       "      <td>1</td>\n",
       "      <td>2.37</td>\n",
       "      <td>0.52</td>\n",
       "      <td>9</td>\n",
       "      <td>10</td>\n",
       "      <td>4</td>\n",
       "      <td>4</td>\n",
       "      <td>9</td>\n",
       "      <td>4</td>\n",
       "      <td>11.80</td>\n",
       "      <td>13.50</td>\n",
       "      <td>2.65</td>\n",
       "      <td>0.24</td>\n",
       "    </tr>\n",
       "  </tbody>\n",
       "</table>\n",
       "</div>"
      ]
     },
     "execution_count": 6,
     "metadata": {},
     "output_type": "execute_result"
    }
   ],
   "execution_count": 6
  },
  {
   "metadata": {
    "ExecuteTime": {
     "end_time": "2025-10-25T20:07:01.051321Z",
     "start_time": "2025-10-25T20:07:01.046650Z"
    }
   },
   "cell_type": "code",
   "source": "matches.shape",
   "id": "1c333c0d4e0a2fbf",
   "outputs": [
    {
     "data": {
      "text/plain": [
       "(380, 18)"
      ]
     },
     "execution_count": 7,
     "metadata": {},
     "output_type": "execute_result"
    }
   ],
   "execution_count": 7
  },
  {
   "metadata": {
    "ExecuteTime": {
     "end_time": "2025-10-25T20:10:44.537660Z",
     "start_time": "2025-10-25T20:10:44.533661Z"
    }
   },
   "cell_type": "code",
   "source": "matches[\"TEAMS_home\"].value_counts()",
   "id": "575af0a2e3662462",
   "outputs": [
    {
     "data": {
      "text/plain": [
       "TEAMS_home\n",
       "West Ham                   19\n",
       "Aston Villa                19\n",
       "Bournemouth                19\n",
       "Manchester City            19\n",
       "Southampton                19\n",
       "Brighton                   19\n",
       "Brentford                  19\n",
       "Crystal Palace             19\n",
       "Wolverhampton Wanderers    19\n",
       "Arsenal                    19\n",
       "Everton                    19\n",
       "Newcastle United           19\n",
       "Nottingham Forest          19\n",
       "Chelsea                    19\n",
       "Liverpool                  19\n",
       "Tottenham                  19\n",
       "Fulham                     19\n",
       "Ipswich                    19\n",
       "Leicester                  19\n",
       "Manchester United          19\n",
       "Name: count, dtype: int64"
      ]
     },
     "execution_count": 8,
     "metadata": {},
     "output_type": "execute_result"
    }
   ],
   "execution_count": 8
  },
  {
   "metadata": {
    "ExecuteTime": {
     "end_time": "2025-10-25T20:11:38.747815Z",
     "start_time": "2025-10-25T20:11:38.742550Z"
    }
   },
   "cell_type": "code",
   "source": "matches.dtypes",
   "id": "18ab50f058fa680",
   "outputs": [
    {
     "data": {
      "text/plain": [
       "TEAMS_home               object\n",
       "TEAMS_away               object\n",
       "CHANCES_home             object\n",
       "CHANCES_away             object\n",
       "GOALS_home                int64\n",
       "GOALS_away                int64\n",
       "XG_home                 float64\n",
       "XG_away                 float64\n",
       "SHOTS_home                int64\n",
       "SHOTS_away                int64\n",
       "SHOTS ON TARGET_home      int64\n",
       "SHOTS ON TARGET_away      int64\n",
       "DEEP_home                 int64\n",
       "DEEP_away                 int64\n",
       "PPDA_home               float64\n",
       "PPDA_away               float64\n",
       "XPTS_home               float64\n",
       "XPTS_away               float64\n",
       "dtype: object"
      ]
     },
     "execution_count": 9,
     "metadata": {},
     "output_type": "execute_result"
    }
   ],
   "execution_count": 9
  },
  {
   "metadata": {},
   "cell_type": "code",
   "outputs": [],
   "execution_count": null,
   "source": "",
   "id": "c971a0039c5c8fc9"
  }
 ],
 "metadata": {
  "kernelspec": {
   "display_name": "Python 3",
   "language": "python",
   "name": "python3"
  },
  "language_info": {
   "codemirror_mode": {
    "name": "ipython",
    "version": 2
   },
   "file_extension": ".py",
   "mimetype": "text/x-python",
   "name": "python",
   "nbconvert_exporter": "python",
   "pygments_lexer": "ipython2",
   "version": "2.7.6"
  }
 },
 "nbformat": 4,
 "nbformat_minor": 5
}
